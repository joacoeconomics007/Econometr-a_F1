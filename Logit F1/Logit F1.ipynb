{
 "cells": [
  {
   "cell_type": "markdown",
   "metadata": {},
   "source": [
    "# Modelo Logit para la Fórmula 1\n",
    "\n",
    "### Objetivo de la investigación\n",
    "<div class=text-justify> La presente investigación tiene como objetivo determinar la probabilidad de que un piloto de F1 obtenga el podio (top 3 de la carrera) dados los resultados de clasificación que son obtenidos un día antes de la carrera. Para esto se utilizarán datos tanto históricos como dl día de clasificación. </div>\n",
    "\n",
    "\n",
    "    \n",
    "### Motivación de la investigación\n",
    "<div class=text-justify> Lo que motivó la creación de este modelo estadístico fue la naciente afición personal hacia la F1, ya que hace 2 semanas empecé a ver.Adicional a esto, tengo varios amigos fans de la F1 que me hablan de este \"deporte\", por lo cual al término de este proyecto espero poder hablar con ellos sobre quien va a ser el ganador de la carrera y demostrar que la carrer de economía no solo es dinero. Ahora bien terminé de ver la serie justo el día que se debía establecer este tema y por eso elegí elaborar este modelo Logit.</div>\n",
    "\n",
    "Serie. -  Fórmula 1:Drive to survive \n",
    "\n",
    "### Especificación y justificación del modelo\n",
    "Para términos de este modelo se utilizará el siguiente modelo:\n",
    "\n",
    "$y_{i}^{c} = G(\\alpha^{c} + \\beta_{1}^{c}*Diferencial_{i-1}^{c} + \\beta_{2}^{c}*PosiciónClasificación_{i}^{c}\n",
    "+ \\beta_{3}^{c}*Clima_{i} + \\beta_{4}^{c}*PosiciónFinal_{i-1}^{c} + \\beta_{5}^{c}*Podio_{i-1}^{c} + u_{i})$\n",
    "\n",
    "### Descripcion de bases de datos\n",
    "#### Variables\n",
    "Diferencial. - El diferencial es definido como la diferencia entre la posición conseguida en la clasificación y la posición final obtenida. Estos dos datos serán de una carrera anterior, es decir, será un dato rezagado.\n",
    "\n",
    "Posición clasificación. - Es el lugar que ocupará el corredor al iniciar la carrera. \n",
    "\n",
    "Clima. - Esta variable será dicotómica. Será 1 si hay condiciones climatológicas diferentes a seco y 0 si el clima es seco \n",
    "\n",
    "Posición final. - Será el resultado de la posición obtenida en la carrera pasada, es decir, este tambienserá un valor rezagado.\n",
    "\n",
    "Podio. - Variable dicotómica. Será 1 si término dentro de los primeros 3 de la carrera, de otra forma será 0.\n",
    "#### Source\n",
    "Esta por determinarse, aun no encuentro una página de internet que tenga los datos que requiero.\n",
    "\n",
    "Sin embargo he buscado en 5 páginas de internet (ESP, motorsport, formula1, marca, mundo deportivo)\n",
    "\n",
    "#### Tamaño de muestra\n",
    "Los datos serán presentados de forma panel, se categorizarán las variables expuestas por nombre de piloto y año. \n",
    "\n",
    "Por ende se podrán obtener más de 20 tablas que nos servirán de data. Se obtienen más de 20 pues los pilotos cambian, ya sea porque se retiran o porque cambian de escuderia.\n",
    "\n",
    "Sin embargo solo estarán activos los paneles de los pilotos que sean activos, es decir que corran. \n",
    "### Soporte teórico\n",
    "https://www.researchgate.net/publication/274080402_Formula_for_success_Multilevel_modelling_of_Formula_One_Driver_and_Constructor_performance_1950-2014 - Guía de el proceso de como lo hizo, claramente no haré plagio de este modelo. By the way, no sabia que existía hasta que me lo dijeron.\n",
    "### Notas\n",
    "___\n",
    "Me gustaría agregar una variable que mida el coche, sin embargo no se como podría meterla al modelo. He encontrado páginas en la que me especifica el chasis con onmbres como: Ferrari, Mercedez, Red Bull, etc. \n",
    "\n",
    "Tambien he encontrado \"nombres de motores\" de cada coche. Sin embargo no se como puedo meterlo. Pensé eb meterlo como variable de equipo, pues los dos corredores de una escudería tiene el mismo coche, pero no se como puedo incorporarlo.\n",
    "___\n",
    "\n",
    "Existirán 20 modelos para predecir quien tiene mayor probabilidad de ganar la carrera. Cada modelo corresponderá a un piloto activo.\n",
    "___\n",
    "Otra variable que me gustaría agregar sería la escuderia, pues no todas las escuderias tiene el mismo presupuesto ni coche, por lo cual es una variable \"oculta\" pues no se ve a simple vista, pero considero que el trabajo de los ingenieros y todo el staff de la escuderia son determiantes en el resultado de la carrera.\n",
    "\n",
    "___\n"
   ]
  },
  {
   "cell_type": "code",
   "execution_count": null,
   "metadata": {},
   "outputs": [],
   "source": []
  }
 ],
 "metadata": {
  "kernelspec": {
   "display_name": "Python 3",
   "language": "python",
   "name": "python3"
  },
  "language_info": {
   "codemirror_mode": {
    "name": "ipython",
    "version": 3
   },
   "file_extension": ".py",
   "mimetype": "text/x-python",
   "name": "python",
   "nbconvert_exporter": "python",
   "pygments_lexer": "ipython3",
   "version": "3.7.4"
  }
 },
 "nbformat": 4,
 "nbformat_minor": 2
}

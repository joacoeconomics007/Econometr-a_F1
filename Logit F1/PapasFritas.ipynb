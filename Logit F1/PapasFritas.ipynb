{
 "cells": [
  {
   "cell_type": "code",
   "execution_count": 1,
   "metadata": {},
   "outputs": [],
   "source": [
    "import pandas as pd\n",
    "import statsmodels.api as sm\n",
    "df = pd.read_excel('.\\DataBase.xlsx')"
   ]
  },
  {
   "cell_type": "code",
   "execution_count": 2,
   "metadata": {},
   "outputs": [
    {
     "data": {
      "text/plain": [
       "Index(['Circuito', 'Año', '#_Carrera', '#_Race_Driver', 'Piloto',\n",
       "       'Nacionalidad', 'Escudería', 'Podio_Y', 'Driver_Points_x1', 'Grid_x2',\n",
       "       'Escudedría_points_x3', 'NF_x5'],\n",
       "      dtype='object')"
      ]
     },
     "execution_count": 2,
     "metadata": {},
     "output_type": "execute_result"
    }
   ],
   "source": [
    "df.keys()"
   ]
  },
  {
   "cell_type": "code",
   "execution_count": 3,
   "metadata": {},
   "outputs": [
    {
     "data": {
      "text/html": [
       "<div>\n",
       "<style scoped>\n",
       "    .dataframe tbody tr th:only-of-type {\n",
       "        vertical-align: middle;\n",
       "    }\n",
       "\n",
       "    .dataframe tbody tr th {\n",
       "        vertical-align: top;\n",
       "    }\n",
       "\n",
       "    .dataframe thead th {\n",
       "        text-align: right;\n",
       "    }\n",
       "</style>\n",
       "<table border=\"1\" class=\"dataframe\">\n",
       "  <thead>\n",
       "    <tr style=\"text-align: right;\">\n",
       "      <th></th>\n",
       "      <th>Podio_Y</th>\n",
       "      <th>Driver_Points_x1</th>\n",
       "      <th>Grid_x2</th>\n",
       "      <th>Escudedría_points_x3</th>\n",
       "      <th>NF_x5</th>\n",
       "    </tr>\n",
       "  </thead>\n",
       "  <tbody>\n",
       "    <tr>\n",
       "      <td>Podio_Y</td>\n",
       "      <td>1.000000</td>\n",
       "      <td>0.834580</td>\n",
       "      <td>-0.491566</td>\n",
       "      <td>0.731179</td>\n",
       "      <td>-0.010850</td>\n",
       "    </tr>\n",
       "    <tr>\n",
       "      <td>Driver_Points_x1</td>\n",
       "      <td>0.834580</td>\n",
       "      <td>1.000000</td>\n",
       "      <td>-0.635107</td>\n",
       "      <td>0.869937</td>\n",
       "      <td>-0.017800</td>\n",
       "    </tr>\n",
       "    <tr>\n",
       "      <td>Grid_x2</td>\n",
       "      <td>-0.491566</td>\n",
       "      <td>-0.635107</td>\n",
       "      <td>1.000000</td>\n",
       "      <td>-0.676256</td>\n",
       "      <td>0.024037</td>\n",
       "    </tr>\n",
       "    <tr>\n",
       "      <td>Escudedría_points_x3</td>\n",
       "      <td>0.731179</td>\n",
       "      <td>0.869937</td>\n",
       "      <td>-0.676256</td>\n",
       "      <td>1.000000</td>\n",
       "      <td>-0.012094</td>\n",
       "    </tr>\n",
       "    <tr>\n",
       "      <td>NF_x5</td>\n",
       "      <td>-0.010850</td>\n",
       "      <td>-0.017800</td>\n",
       "      <td>0.024037</td>\n",
       "      <td>-0.012094</td>\n",
       "      <td>1.000000</td>\n",
       "    </tr>\n",
       "  </tbody>\n",
       "</table>\n",
       "</div>"
      ],
      "text/plain": [
       "                       Podio_Y  Driver_Points_x1   Grid_x2  \\\n",
       "Podio_Y               1.000000          0.834580 -0.491566   \n",
       "Driver_Points_x1      0.834580          1.000000 -0.635107   \n",
       "Grid_x2              -0.491566         -0.635107  1.000000   \n",
       "Escudedría_points_x3  0.731179          0.869937 -0.676256   \n",
       "NF_x5                -0.010850         -0.017800  0.024037   \n",
       "\n",
       "                      Escudedría_points_x3     NF_x5  \n",
       "Podio_Y                           0.731179 -0.010850  \n",
       "Driver_Points_x1                  0.869937 -0.017800  \n",
       "Grid_x2                          -0.676256  0.024037  \n",
       "Escudedría_points_x3              1.000000 -0.012094  \n",
       "NF_x5                            -0.012094  1.000000  "
      ]
     },
     "execution_count": 3,
     "metadata": {},
     "output_type": "execute_result"
    }
   ],
   "source": [
    "df[['Podio_Y','Driver_Points_x1','Grid_x2','Escudedría_points_x3','NF_x5']].corr()"
   ]
  },
  {
   "cell_type": "code",
   "execution_count": 4,
   "metadata": {},
   "outputs": [
    {
     "data": {
      "text/html": [
       "<div>\n",
       "<style scoped>\n",
       "    .dataframe tbody tr th:only-of-type {\n",
       "        vertical-align: middle;\n",
       "    }\n",
       "\n",
       "    .dataframe tbody tr th {\n",
       "        vertical-align: top;\n",
       "    }\n",
       "\n",
       "    .dataframe thead th {\n",
       "        text-align: right;\n",
       "    }\n",
       "</style>\n",
       "<table border=\"1\" class=\"dataframe\">\n",
       "  <thead>\n",
       "    <tr style=\"text-align: right;\">\n",
       "      <th></th>\n",
       "      <th>Circuito</th>\n",
       "      <th>Año</th>\n",
       "      <th>#_Carrera</th>\n",
       "      <th>#_Race_Driver</th>\n",
       "      <th>Piloto</th>\n",
       "      <th>Nacionalidad</th>\n",
       "      <th>Escudería</th>\n",
       "      <th>Podio_Y</th>\n",
       "      <th>Driver_Points_x1</th>\n",
       "      <th>Grid_x2</th>\n",
       "      <th>Escudedría_points_x3</th>\n",
       "      <th>NF_x5</th>\n",
       "    </tr>\n",
       "  </thead>\n",
       "  <tbody>\n",
       "    <tr>\n",
       "      <td>0</td>\n",
       "      <td>Bahrain Grand Prix</td>\n",
       "      <td>2010</td>\n",
       "      <td>1</td>\n",
       "      <td>1</td>\n",
       "      <td>Adrian Sutil</td>\n",
       "      <td>German</td>\n",
       "      <td>Force India</td>\n",
       "      <td>0</td>\n",
       "      <td>0</td>\n",
       "      <td>10</td>\n",
       "      <td>2.0</td>\n",
       "      <td>0</td>\n",
       "    </tr>\n",
       "    <tr>\n",
       "      <td>1</td>\n",
       "      <td>Australian Grand Prix</td>\n",
       "      <td>2010</td>\n",
       "      <td>2</td>\n",
       "      <td>2</td>\n",
       "      <td>Adrian Sutil</td>\n",
       "      <td>German</td>\n",
       "      <td>Force India</td>\n",
       "      <td>0</td>\n",
       "      <td>0</td>\n",
       "      <td>10</td>\n",
       "      <td>6.0</td>\n",
       "      <td>1</td>\n",
       "    </tr>\n",
       "    <tr>\n",
       "      <td>2</td>\n",
       "      <td>Malaysian Grand Prix</td>\n",
       "      <td>2010</td>\n",
       "      <td>3</td>\n",
       "      <td>3</td>\n",
       "      <td>Adrian Sutil</td>\n",
       "      <td>German</td>\n",
       "      <td>Force India</td>\n",
       "      <td>0</td>\n",
       "      <td>10</td>\n",
       "      <td>4</td>\n",
       "      <td>10.0</td>\n",
       "      <td>0</td>\n",
       "    </tr>\n",
       "    <tr>\n",
       "      <td>3</td>\n",
       "      <td>Chinese Grand Prix</td>\n",
       "      <td>2010</td>\n",
       "      <td>4</td>\n",
       "      <td>4</td>\n",
       "      <td>Adrian Sutil</td>\n",
       "      <td>German</td>\n",
       "      <td>Force India</td>\n",
       "      <td>0</td>\n",
       "      <td>0</td>\n",
       "      <td>10</td>\n",
       "      <td>0.0</td>\n",
       "      <td>0</td>\n",
       "    </tr>\n",
       "    <tr>\n",
       "      <td>4</td>\n",
       "      <td>Spanish Grand Prix</td>\n",
       "      <td>2010</td>\n",
       "      <td>5</td>\n",
       "      <td>5</td>\n",
       "      <td>Adrian Sutil</td>\n",
       "      <td>German</td>\n",
       "      <td>Force India</td>\n",
       "      <td>0</td>\n",
       "      <td>6</td>\n",
       "      <td>11</td>\n",
       "      <td>6.0</td>\n",
       "      <td>0</td>\n",
       "    </tr>\n",
       "  </tbody>\n",
       "</table>\n",
       "</div>"
      ],
      "text/plain": [
       "                Circuito   Año  #_Carrera  #_Race_Driver        Piloto  \\\n",
       "0     Bahrain Grand Prix  2010          1              1  Adrian Sutil   \n",
       "1  Australian Grand Prix  2010          2              2  Adrian Sutil   \n",
       "2   Malaysian Grand Prix  2010          3              3  Adrian Sutil   \n",
       "3     Chinese Grand Prix  2010          4              4  Adrian Sutil   \n",
       "4     Spanish Grand Prix  2010          5              5  Adrian Sutil   \n",
       "\n",
       "  Nacionalidad    Escudería  Podio_Y  Driver_Points_x1  Grid_x2  \\\n",
       "0       German  Force India        0                 0       10   \n",
       "1       German  Force India        0                 0       10   \n",
       "2       German  Force India        0                10        4   \n",
       "3       German  Force India        0                 0       10   \n",
       "4       German  Force India        0                 6       11   \n",
       "\n",
       "   Escudedría_points_x3  NF_x5  \n",
       "0                   2.0      0  \n",
       "1                   6.0      1  \n",
       "2                  10.0      0  \n",
       "3                   0.0      0  \n",
       "4                   6.0      0  "
      ]
     },
     "execution_count": 4,
     "metadata": {},
     "output_type": "execute_result"
    }
   ],
   "source": [
    "df.head()"
   ]
  },
  {
   "cell_type": "code",
   "execution_count": 5,
   "metadata": {},
   "outputs": [
    {
     "data": {
      "text/plain": [
       "array(['Adrian Sutil', 'Alexander Albon', 'Alexander Rossi',\n",
       "       'André Lotterer', 'Antonio Giovinazzi', 'Brendon Hartley',\n",
       "       'Bruno Senna', 'Carlos Sainz', 'Charles Leclerc', 'Charles Pic',\n",
       "       'Christian Klien', 'Daniel Ricciardo', 'Daniil Kvyat',\n",
       "       'Esteban Gutiérrez', 'Esteban Ocon', 'Felipe Massa', 'Felipe Nasr',\n",
       "       'Fernando Alonso', 'George Russell', 'Giedo van der Garde',\n",
       "       'Heikki Kovalainen', \"Jérôme d'Ambrosio\", 'Jaime Alguersuari',\n",
       "       'Jarno Trulli', 'Jean-Éric Vergne', 'Jenson Button',\n",
       "       'Jolyon Palmer', 'Jules Bianchi', 'Kamui Kobayashi',\n",
       "       'Karun Chandhok', 'Kevin Magnussen', 'Kimi Räikkönen',\n",
       "       'Lance Stroll', 'Lando Norris', 'Lewis Hamilton',\n",
       "       'Lucas di Grassi', 'Marcus Ericsson', 'Mark Webber', 'Max Chilton',\n",
       "       'Max Verstappen', 'Michael Schumacher', 'Narain Karthikeyan',\n",
       "       'Nick Heidfeld', 'Nico Hülkenberg', 'Nico Rosberg',\n",
       "       'Pascal Wehrlein', 'Pastor Maldonado', 'Paul di Resta',\n",
       "       'Pedro de la Rosa', 'Pierre Gasly', 'Rio Haryanto',\n",
       "       'Robert Kubica', 'Roberto Merhi', 'Romain Grosjean',\n",
       "       'Rubens Barrichello', 'Sébastien Buemi', 'Sakon Yamamoto',\n",
       "       'Sebastian Vettel', 'Sergey Sirotkin', 'Sergio Pérez',\n",
       "       'Stoffel Vandoorne', 'Timo Glock', 'Valtteri Bottas',\n",
       "       'Vitaly Petrov', 'Vitantonio Liuzzi', 'Will Stevens'], dtype=object)"
      ]
     },
     "execution_count": 5,
     "metadata": {},
     "output_type": "execute_result"
    }
   ],
   "source": [
    "df[\"Piloto\"].unique()"
   ]
  },
  {
   "cell_type": "code",
   "execution_count": 17,
   "metadata": {},
   "outputs": [
    {
     "name": "stdout",
     "output_type": "stream",
     "text": [
      "Dime un piloto: Charles Leclerc\n",
      "Optimization terminated successfully.\n",
      "         Current function value: 0.096950\n",
      "         Iterations 11\n",
      "                           Logit Regression Results                           \n",
      "==============================================================================\n",
      "Dep. Variable:                Podio_Y   No. Observations:                   42\n",
      "Model:                          Logit   Df Residuals:                       38\n",
      "Method:                           MLE   Df Model:                            3\n",
      "Date:                Tue, 19 May 2020   Pseudo R-squ.:                  0.8234\n",
      "Time:                        16:13:48   Log-Likelihood:                -4.0719\n",
      "converged:                       True   LL-Null:                       -23.053\n",
      "Covariance Type:            nonrobust   LLR p-value:                 2.880e-08\n",
      "========================================================================================\n",
      "                           coef    std err          z      P>|z|      [0.025      0.975]\n",
      "----------------------------------------------------------------------------------------\n",
      "Driver_Points_x1         0.6327      0.340      1.860      0.063      -0.034       1.299\n",
      "Grid_x2                 -1.6062      0.833     -1.929      0.054      -3.238       0.026\n",
      "Escudedría_points_x3    -0.1745      0.129     -1.355      0.175      -0.427       0.078\n",
      "NF_x5                    2.0628      2.283      0.904      0.366      -2.412       6.538\n",
      "========================================================================================\n",
      "\n",
      "Possibly complete quasi-separation: A fraction 0.57 of observations can be\n",
      "perfectly predicted. This might indicate that there is complete\n",
      "quasi-separation. In this case some parameters will not be identified.\n"
     ]
    }
   ],
   "source": [
    "piloto = input('Dime un piloto: ')\n",
    "df_piloto = df.loc[df['Piloto'] == piloto]\n",
    "Y = df_piloto['Podio_Y']\n",
    "X = df_piloto[['Driver_Points_x1', 'Grid_x2', 'Escudedría_points_x3', 'NF_x5']]\n",
    "\n",
    "model = sm.Logit(Y, X).fit()\n",
    "print(model.summary())"
   ]
  },
  {
   "cell_type": "code",
   "execution_count": null,
   "metadata": {},
   "outputs": [],
   "source": []
  }
 ],
 "metadata": {
  "kernelspec": {
   "display_name": "Python 3",
   "language": "python",
   "name": "python3"
  },
  "language_info": {
   "codemirror_mode": {
    "name": "ipython",
    "version": 3
   },
   "file_extension": ".py",
   "mimetype": "text/x-python",
   "name": "python",
   "nbconvert_exporter": "python",
   "pygments_lexer": "ipython3",
   "version": "3.7.4"
  }
 },
 "nbformat": 4,
 "nbformat_minor": 2
}
